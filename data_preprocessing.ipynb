{
 "cells": [
  {
   "cell_type": "markdown",
   "metadata": {},
   "source": [
    "# **Data Cleaning and Formatting for Analysis**\n",
    "\n",
    "This notebook contains the steps to clean and format the data, making it ready for further analysis.\n",
    "\n",
    "## **Load and display initial data**\n",
    "\n",
    "### **Importing necessary libraries**"
   ]
  },
  {
   "cell_type": "code",
   "execution_count": 83,
   "metadata": {
    "ExecuteTime": {
     "end_time": "2024-05-04T07:28:52.011150Z",
     "start_time": "2024-05-04T07:28:52.005343Z"
    }
   },
   "outputs": [],
   "source": [
    "import numpy as np\n",
    "import matplotlib.pyplot as plt\n",
    "import pandas as pd\n",
    "import re\n",
    "import json"
   ]
  },
  {
   "cell_type": "markdown",
   "metadata": {},
   "source": [
    "### **Load the dataset**"
   ]
  },
  {
   "cell_type": "code",
   "execution_count": 84,
   "metadata": {
    "ExecuteTime": {
     "end_time": "2024-05-04T07:28:52.171550Z",
     "start_time": "2024-05-04T07:28:52.011150Z"
    }
   },
   "outputs": [
    {
     "data": {
      "text/html": [
       "<div>\n",
       "<style scoped>\n",
       "    .dataframe tbody tr th:only-of-type {\n",
       "        vertical-align: middle;\n",
       "    }\n",
       "\n",
       "    .dataframe tbody tr th {\n",
       "        vertical-align: top;\n",
       "    }\n",
       "\n",
       "    .dataframe thead th {\n",
       "        text-align: right;\n",
       "    }\n",
       "</style>\n",
       "<table border=\"1\" class=\"dataframe\">\n",
       "  <thead>\n",
       "    <tr style=\"text-align: right;\">\n",
       "      <th></th>\n",
       "      <th>puuid</th>\n",
       "      <th>augments_1</th>\n",
       "      <th>augments_2</th>\n",
       "      <th>augments_3</th>\n",
       "      <th>traits_1_name</th>\n",
       "      <th>traits_2_name</th>\n",
       "      <th>traits_3_name</th>\n",
       "      <th>traits_4_name</th>\n",
       "      <th>traits_5_name</th>\n",
       "      <th>traits_6_name</th>\n",
       "      <th>...</th>\n",
       "      <th>traits_15_num_units</th>\n",
       "      <th>traits_15_style</th>\n",
       "      <th>traits_15_tier_current</th>\n",
       "      <th>traits_15_tier_total</th>\n",
       "      <th>traits_16_num_units</th>\n",
       "      <th>traits_16_style</th>\n",
       "      <th>traits_16_tier_current</th>\n",
       "      <th>traits_16_tier_total</th>\n",
       "      <th>level</th>\n",
       "      <th>placement</th>\n",
       "    </tr>\n",
       "  </thead>\n",
       "  <tbody>\n",
       "    <tr>\n",
       "      <th>0</th>\n",
       "      <td>V4CYQ37ANOdyBmU8dxoT4HsPWHkOSY2oaijwrr6Ijj7Aoe...</td>\n",
       "      <td>TFT11_Augment_StoryweaverCrest</td>\n",
       "      <td>TFT9_Augment_StationarySupport3</td>\n",
       "      <td>TFT6_Augment_OneTwoFive</td>\n",
       "      <td>TFT11_Altruist</td>\n",
       "      <td>TFT11_Arcanist</td>\n",
       "      <td>TFT11_Behemoth</td>\n",
       "      <td>TFT11_Bruiser</td>\n",
       "      <td>TFT11_Dryad</td>\n",
       "      <td>TFT11_Exalted</td>\n",
       "      <td>...</td>\n",
       "      <td>0</td>\n",
       "      <td>0</td>\n",
       "      <td>0</td>\n",
       "      <td>0</td>\n",
       "      <td>0</td>\n",
       "      <td>0</td>\n",
       "      <td>0</td>\n",
       "      <td>0</td>\n",
       "      <td>8</td>\n",
       "      <td>7</td>\n",
       "    </tr>\n",
       "    <tr>\n",
       "      <th>1</th>\n",
       "      <td>4RHYO23SWrm7h35kCmesJOqErQ8Gh0uoUuUYKvqrJIxoXe...</td>\n",
       "      <td>TFT11_Augment_Trickshot</td>\n",
       "      <td>TFT11_Augment_TrashToTreasure</td>\n",
       "      <td>TFT9_Augment_Commander_RollingForDays</td>\n",
       "      <td>TFT11_Arcanist</td>\n",
       "      <td>TFT11_Bruiser</td>\n",
       "      <td>TFT11_Dragonlord</td>\n",
       "      <td>TFT11_Exalted</td>\n",
       "      <td>TFT11_Fated</td>\n",
       "      <td>TFT11_Fortune</td>\n",
       "      <td>...</td>\n",
       "      <td>0</td>\n",
       "      <td>0</td>\n",
       "      <td>0</td>\n",
       "      <td>0</td>\n",
       "      <td>0</td>\n",
       "      <td>0</td>\n",
       "      <td>0</td>\n",
       "      <td>0</td>\n",
       "      <td>9</td>\n",
       "      <td>4</td>\n",
       "    </tr>\n",
       "    <tr>\n",
       "      <th>2</th>\n",
       "      <td>orvNdZ6YNzS5oHAvPlKFGzp0j5-z-xQg4pT0uFA4bb7eWc...</td>\n",
       "      <td>TFT9_Augment_Idealism</td>\n",
       "      <td>TFT6_Augment_GachaAddict</td>\n",
       "      <td>TFT9_Augment_RedBuff</td>\n",
       "      <td>TFT11_Dragonlord</td>\n",
       "      <td>TFT11_Duelist</td>\n",
       "      <td>TFT11_Fortune</td>\n",
       "      <td>TFT11_Great</td>\n",
       "      <td>TFT11_Heavenly</td>\n",
       "      <td>TFT11_InkShadow</td>\n",
       "      <td>...</td>\n",
       "      <td>0</td>\n",
       "      <td>0</td>\n",
       "      <td>0</td>\n",
       "      <td>0</td>\n",
       "      <td>0</td>\n",
       "      <td>0</td>\n",
       "      <td>0</td>\n",
       "      <td>0</td>\n",
       "      <td>8</td>\n",
       "      <td>6</td>\n",
       "    </tr>\n",
       "    <tr>\n",
       "      <th>3</th>\n",
       "      <td>RgqCZQcvEAIq0VhCVwyrek4aDuait82v8P9c6mHDjvQ5pE...</td>\n",
       "      <td>TFT9_Augment_YouHaveMyBow</td>\n",
       "      <td>TFT11_Augment_Accomplice</td>\n",
       "      <td>TFT9_Augment_Harmacist1</td>\n",
       "      <td>TFT11_Arcanist</td>\n",
       "      <td>TFT11_Behemoth</td>\n",
       "      <td>TFT11_Exalted</td>\n",
       "      <td>TFT11_Fated</td>\n",
       "      <td>TFT11_Ghostly</td>\n",
       "      <td>TFT11_Mythic</td>\n",
       "      <td>...</td>\n",
       "      <td>0</td>\n",
       "      <td>0</td>\n",
       "      <td>0</td>\n",
       "      <td>0</td>\n",
       "      <td>0</td>\n",
       "      <td>0</td>\n",
       "      <td>0</td>\n",
       "      <td>0</td>\n",
       "      <td>7</td>\n",
       "      <td>8</td>\n",
       "    </tr>\n",
       "    <tr>\n",
       "      <th>4</th>\n",
       "      <td>uQg8ITKGu-ywgNI3pzWjqTLFFGyRHE0aHwtKAsixZTkACn...</td>\n",
       "      <td>TFT9_Augment_Sleightofhand</td>\n",
       "      <td>TFT9_Augment_StationarySupport3</td>\n",
       "      <td>TFT9_Augment_CyberneticBulk1</td>\n",
       "      <td>TFT11_Arcanist</td>\n",
       "      <td>TFT11_Artist</td>\n",
       "      <td>TFT11_Behemoth</td>\n",
       "      <td>TFT11_Bruiser</td>\n",
       "      <td>TFT11_Dryad</td>\n",
       "      <td>TFT11_Duelist</td>\n",
       "      <td>...</td>\n",
       "      <td>2</td>\n",
       "      <td>1</td>\n",
       "      <td>1</td>\n",
       "      <td>4</td>\n",
       "      <td>1</td>\n",
       "      <td>5</td>\n",
       "      <td>1</td>\n",
       "      <td>1</td>\n",
       "      <td>10</td>\n",
       "      <td>1</td>\n",
       "    </tr>\n",
       "  </tbody>\n",
       "</table>\n",
       "<p>5 rows × 136 columns</p>\n",
       "</div>"
      ],
      "text/plain": [
       "                                               puuid  \\\n",
       "0  V4CYQ37ANOdyBmU8dxoT4HsPWHkOSY2oaijwrr6Ijj7Aoe...   \n",
       "1  4RHYO23SWrm7h35kCmesJOqErQ8Gh0uoUuUYKvqrJIxoXe...   \n",
       "2  orvNdZ6YNzS5oHAvPlKFGzp0j5-z-xQg4pT0uFA4bb7eWc...   \n",
       "3  RgqCZQcvEAIq0VhCVwyrek4aDuait82v8P9c6mHDjvQ5pE...   \n",
       "4  uQg8ITKGu-ywgNI3pzWjqTLFFGyRHE0aHwtKAsixZTkACn...   \n",
       "\n",
       "                       augments_1                       augments_2  \\\n",
       "0  TFT11_Augment_StoryweaverCrest  TFT9_Augment_StationarySupport3   \n",
       "1         TFT11_Augment_Trickshot    TFT11_Augment_TrashToTreasure   \n",
       "2           TFT9_Augment_Idealism         TFT6_Augment_GachaAddict   \n",
       "3       TFT9_Augment_YouHaveMyBow         TFT11_Augment_Accomplice   \n",
       "4      TFT9_Augment_Sleightofhand  TFT9_Augment_StationarySupport3   \n",
       "\n",
       "                              augments_3     traits_1_name   traits_2_name  \\\n",
       "0                TFT6_Augment_OneTwoFive    TFT11_Altruist  TFT11_Arcanist   \n",
       "1  TFT9_Augment_Commander_RollingForDays    TFT11_Arcanist   TFT11_Bruiser   \n",
       "2                   TFT9_Augment_RedBuff  TFT11_Dragonlord   TFT11_Duelist   \n",
       "3                TFT9_Augment_Harmacist1    TFT11_Arcanist  TFT11_Behemoth   \n",
       "4           TFT9_Augment_CyberneticBulk1    TFT11_Arcanist    TFT11_Artist   \n",
       "\n",
       "      traits_3_name  traits_4_name   traits_5_name    traits_6_name  ...  \\\n",
       "0    TFT11_Behemoth  TFT11_Bruiser     TFT11_Dryad    TFT11_Exalted  ...   \n",
       "1  TFT11_Dragonlord  TFT11_Exalted     TFT11_Fated    TFT11_Fortune  ...   \n",
       "2     TFT11_Fortune    TFT11_Great  TFT11_Heavenly  TFT11_InkShadow  ...   \n",
       "3     TFT11_Exalted    TFT11_Fated   TFT11_Ghostly     TFT11_Mythic  ...   \n",
       "4    TFT11_Behemoth  TFT11_Bruiser     TFT11_Dryad    TFT11_Duelist  ...   \n",
       "\n",
       "  traits_15_num_units traits_15_style traits_15_tier_current  \\\n",
       "0                   0               0                      0   \n",
       "1                   0               0                      0   \n",
       "2                   0               0                      0   \n",
       "3                   0               0                      0   \n",
       "4                   2               1                      1   \n",
       "\n",
       "  traits_15_tier_total traits_16_num_units traits_16_style  \\\n",
       "0                    0                   0               0   \n",
       "1                    0                   0               0   \n",
       "2                    0                   0               0   \n",
       "3                    0                   0               0   \n",
       "4                    4                   1               5   \n",
       "\n",
       "  traits_16_tier_current traits_16_tier_total level placement  \n",
       "0                      0                    0     8         7  \n",
       "1                      0                    0     9         4  \n",
       "2                      0                    0     8         6  \n",
       "3                      0                    0     7         8  \n",
       "4                      1                    1    10         1  \n",
       "\n",
       "[5 rows x 136 columns]"
      ]
     },
     "execution_count": 84,
     "metadata": {},
     "output_type": "execute_result"
    }
   ],
   "source": [
    "# Read the CSV file into a DataFrame\n",
    "match_df = pd.read_csv('./data/data02.csv')\n",
    "\n",
    "# Display the first few rows to understand the structure of the dataset\n",
    "match_df.head()"
   ]
  },
  {
   "cell_type": "code",
   "execution_count": 85,
   "metadata": {
    "ExecuteTime": {
     "end_time": "2024-05-04T07:28:52.190824Z",
     "start_time": "2024-05-04T07:28:52.171550Z"
    }
   },
   "outputs": [],
   "source": [
    "# Drop the column 'id'\n",
    "match_df = match_df.drop(columns=['puuid'])"
   ]
  },
  {
   "cell_type": "markdown",
   "metadata": {},
   "source": [
    "## **Formatting Names**\n",
    "\n",
    "In this section, we format the character names to remove underscores and capitalize them properly."
   ]
  },
  {
   "cell_type": "code",
   "execution_count": 86,
   "metadata": {
    "ExecuteTime": {
     "end_time": "2024-05-04T07:28:52.251938Z",
     "start_time": "2024-05-04T07:28:52.190824Z"
    }
   },
   "outputs": [],
   "source": [
    "# Function to format character names of augments\n",
    "def format_augment_name(augment):\n",
    "    # Split the string by '_'\n",
    "    parts = augment.split('_')\n",
    "    # Get the last element\n",
    "    formatted_name = parts[-1]\n",
    "    # Use regular expression to split each word\n",
    "    formatted_name = ' '.join(re.findall('[A-Z][^A-Z]*', formatted_name))\n",
    "\n",
    "    return formatted_name\n",
    "\n",
    "# Format data in the 3 columns augments_1, augments_2, augments_3\n",
    "for col in ['augments_1', 'augments_2', 'augments_3']:\n",
    "    match_df[col] = match_df[col].apply(format_augment_name)"
   ]
  },
  {
   "cell_type": "code",
   "execution_count": 87,
   "metadata": {
    "ExecuteTime": {
     "end_time": "2024-05-04T07:28:52.320388Z",
     "start_time": "2024-05-04T07:28:52.251938Z"
    }
   },
   "outputs": [],
   "source": [
    "# Function to format character names of traits\n",
    "def format_trait_name(trait):\n",
    "    # Split the string by '_'\n",
    "    parts = trait.split('_')\n",
    "    # Get the last element\n",
    "    formatted_name = parts[-1]\n",
    "    return formatted_name\n",
    "\n",
    "# Format data in the 16 columns traits\n",
    "for i in range(1, 17):\n",
    "    col = f'traits_{i}_name'\n",
    "    match_df[col] = match_df[col].apply(format_trait_name)"
   ]
  },
  {
   "cell_type": "code",
   "execution_count": 88,
   "metadata": {
    "ExecuteTime": {
     "end_time": "2024-05-04T07:28:52.374455Z",
     "start_time": "2024-05-04T07:28:52.321537Z"
    }
   },
   "outputs": [],
   "source": [
    "# Function to format character names of champions\n",
    "def format_character_name(units):\n",
    "    # Split the string by '_'\n",
    "    parts = units.split('_')\n",
    "    # Get the last element\n",
    "    formatted_name = parts[-1]\n",
    "    return formatted_name\n",
    "\n",
    "# Format data in the 16 columns of champion names\n",
    "for i in range(1, 11):\n",
    "    col = f'units_{i}_character_id'\n",
    "    match_df[col] = match_df[col].apply(format_character_name)\n",
    "\n",
    "# Rename columns\n",
    "for i in range(1, 11):\n",
    "    old_col_name = f'units_{i}_character_id'\n",
    "    new_col_name = f'units_{i}_name'\n",
    "    match_df.rename(columns={old_col_name: new_col_name}, inplace=True)"
   ]
  },
  {
   "cell_type": "code",
   "execution_count": 89,
   "metadata": {
    "ExecuteTime": {
     "end_time": "2024-05-04T07:28:52.725775Z",
     "start_time": "2024-05-04T07:28:52.374455Z"
    }
   },
   "outputs": [],
   "source": [
    "# Function to format character names of items\n",
    "def format_item_name(item):\n",
    "    # Split the string by '_'\n",
    "    parts = item.split('_')\n",
    "    # Get the last element\n",
    "    formatted_name = parts[-1]\n",
    "    # Use regular expression to split each word\n",
    "    formatted_name = ' '.join(re.findall('[A-Z][^A-Z]*', formatted_name))\n",
    "    return formatted_name\n",
    "\n",
    "# Format data in the columns units_{1-10}_item_{1-3}\n",
    "for unit in range(1, 11):\n",
    "    for item in range(1, 4):\n",
    "        col_name = f'units_{unit}_item_{item}'\n",
    "        match_df[col_name] = match_df[col_name].apply(format_item_name)\n"
   ]
  },
  {
   "cell_type": "markdown",
   "metadata": {
    "collapsed": false
   },
   "source": [
    "## **Data Segmentation**\n",
    "\n",
    "Here, we split the dataset into smaller segments for focused analysis, including augments, traits, and units."
   ]
  },
  {
   "cell_type": "code",
   "execution_count": 90,
   "metadata": {
    "ExecuteTime": {
     "end_time": "2024-05-04T07:28:52.754723Z",
     "start_time": "2024-05-04T07:28:52.727897Z"
    }
   },
   "outputs": [],
   "source": [
    "# Augments\n",
    "augments = match_df[['augments_1', 'augments_2', 'augments_3', 'placement']]\n",
    "\n",
    "# Traits\n",
    "traits_df = match_df[[f'traits_{i}_name'for i in range(1, 17)] +\n",
    "                     [f'traits_{i}_num_units' for i in range(1, 17)] +\n",
    "                     [f'traits_{i}_style' for i in range(1, 17)] +\n",
    "                     [f'traits_{i}_tier_current' for i in range(1, 17)] +\n",
    "                     [f'traits_{i}_tier_total' for i in range(1, 17)]]\n",
    "\n",
    "# Units\n",
    "units_df = match_df[[f'units_{i}_name' for i in range(1, 11)] +\n",
    "                    [f'units_{i}_item_{j}' for i in range(1, 11) for j in range(1, 4)]]"
   ]
  },
  {
   "cell_type": "markdown",
   "metadata": {
    "collapsed": false
   },
   "source": [
    "## **Numeric Encoding**\n",
    "\n",
    "### **Augments Name Encoding**"
   ]
  },
  {
   "cell_type": "code",
   "execution_count": 91,
   "metadata": {
    "ExecuteTime": {
     "end_time": "2024-05-04T07:28:52.766798Z",
     "start_time": "2024-05-04T07:28:52.754723Z"
    },
    "collapsed": false
   },
   "outputs": [],
   "source": [
    "# Read data in standard name format of augments\n",
    "id_name = pd.read_csv('data/Id_augment.csv')\n",
    "name_type = pd.read_csv('data/Type.csv')"
   ]
  },
  {
   "cell_type": "code",
   "execution_count": 92,
   "metadata": {
    "ExecuteTime": {
     "end_time": "2024-05-04T07:28:52.780476Z",
     "start_time": "2024-05-04T07:28:52.767868Z"
    },
    "collapsed": false
   },
   "outputs": [],
   "source": [
    "# Create a mapping from ID to name\n",
    "mapping_name = id_name.to_dict('records')\n",
    "mapping_name = {row['id']: row['name'] for row in mapping_name}\n",
    "\n",
    "# Create a mapping from augment name to type\n",
    "mapping_type = name_type.to_dict('records')\n",
    "mapping_type = {row['Augment'].strip(): row['Type'] for row in mapping_type}"
   ]
  },
  {
   "cell_type": "code",
   "execution_count": 93,
   "metadata": {
    "ExecuteTime": {
     "end_time": "2024-05-04T07:28:52.788730Z",
     "start_time": "2024-05-04T07:28:52.782013Z"
    },
    "collapsed": false
   },
   "outputs": [],
   "source": [
    "# Read available JSON data to retrieve data for converting IDs of augments to right names\n",
    "with open('data/Name.json', 'r') as f:\n",
    "    temp = json.load(f)\n",
    "\n",
    "names = dict()\n",
    "for i in temp['data']:\n",
    "    names[i] = temp['data'][i]['name']\n"
   ]
  },
  {
   "cell_type": "code",
   "execution_count": 94,
   "metadata": {
    "ExecuteTime": {
     "end_time": "2024-05-04T07:28:52.800860Z",
     "start_time": "2024-05-04T07:28:52.788730Z"
    },
    "collapsed": false
   },
   "outputs": [],
   "source": [
    "def replace_suffix(x:str):\n",
    "    x = x.replace('III','').replace('II','').replace('++','').replace('+','').strip()\n",
    "    if x.endswith('I'):\n",
    "        return x[:-1].strip()\n",
    "    return x\n",
    "def update_value(val):\n",
    "    if val in names:\n",
    "        return names[val]\n",
    "    elif val in mapping_name:\n",
    "        return mapping_name[val]\n",
    "    else:\n",
    "        return val"
   ]
  },
  {
   "cell_type": "code",
   "execution_count": 95,
   "metadata": {
    "ExecuteTime": {
     "end_time": "2024-05-04T07:28:52.838329Z",
     "start_time": "2024-05-04T07:28:52.800860Z"
    },
    "collapsed": false
   },
   "outputs": [],
   "source": [
    "augments = augments.map(update_value)\n",
    "augments = augments.map(lambda x: str(x).replace('++','').replace('+','').strip())"
   ]
  },
  {
   "cell_type": "code",
   "execution_count": 96,
   "metadata": {
    "ExecuteTime": {
     "end_time": "2024-05-04T07:28:52.845557Z",
     "start_time": "2024-05-04T07:28:52.838329Z"
    },
    "collapsed": false
   },
   "outputs": [],
   "source": [
    "all_augments = mapping_type.keys()\n",
    "all_augments = list(set(map(replace_suffix, all_augments)))\n",
    "all_augments.sort()"
   ]
  },
  {
   "cell_type": "code",
   "execution_count": 97,
   "metadata": {
    "ExecuteTime": {
     "end_time": "2024-05-04T07:28:52.868769Z",
     "start_time": "2024-05-04T07:28:52.858130Z"
    },
    "collapsed": false
   },
   "outputs": [],
   "source": [
    "augments.replace('Healing Orbs I I', 'Healing Orbs II', inplace=True)"
   ]
  },
  {
   "cell_type": "code",
   "execution_count": 98,
   "metadata": {},
   "outputs": [],
   "source": [
    "# Creat new dataframe for all augments\n",
    "augments_df = pd.DataFrame(0, index=augments.index, columns=all_augments)\n",
    "\n",
    "for i in range(len(augments)):\n",
    "    for j in range(3):\n",
    "        ag = augments[f'augments_{j + 1}'][i]\n",
    "        if ag.endswith('I'):\n",
    "            count = ag.count('I')\n",
    "            ag = replace_suffix(ag)\n",
    "            augments_df.loc[i, ag] += count\n",
    "        elif ag in mapping_type:\n",
    "            augments_df.loc[i, ag] += mapping_type[ag]"
   ]
  },
  {
   "cell_type": "markdown",
   "metadata": {
    "collapsed": false
   },
   "source": [
    "### **Traits Name Encoding**"
   ]
  },
  {
   "cell_type": "code",
   "execution_count": 99,
   "metadata": {
    "ExecuteTime": {
     "end_time": "2024-05-04T07:29:00.081898Z",
     "start_time": "2024-05-04T07:28:54.550597Z"
    },
    "collapsed": false
   },
   "outputs": [],
   "source": [
    "# Process for traits_{i}_name for i from 1 to 16\n",
    "trait_name_columns = [f'traits_{i}_name' for i in range(1, 17)]\n",
    "traits_df = traits_df[trait_name_columns]\n",
    "\n",
    "# Get all unique traits names\n",
    "unique_traits_names = pd.unique(traits_df.values.ravel('K'))\n",
    "\n",
    "# Create a new dataframe with columns for each unique trait name\n",
    "traits_encoding_df = pd.DataFrame(0, index=traits_df.index, columns=unique_traits_names)\n",
    "\n",
    "# Populate the new dataframe by setting 1 if the trait name appears in any of the trait name columns for a row in traits_df\n",
    "\n",
    "check = True\n",
    "for idx, row in traits_df.iterrows():\n",
    "    for col in trait_name_columns:\n",
    "        tier = col.replace('name', '') + 'tier_current'\n",
    "        if pd.notna(row[col]):\n",
    "            traits_encoding_df.at[idx, row[col]] = match_df[tier][idx]"
   ]
  },
  {
   "cell_type": "markdown",
   "metadata": {
    "collapsed": false
   },
   "source": [
    "### **Units Name Encoding**"
   ]
  },
  {
   "cell_type": "code",
   "execution_count": 100,
   "metadata": {
    "ExecuteTime": {
     "end_time": "2024-05-04T07:29:03.887865Z",
     "start_time": "2024-05-04T07:29:00.082981Z"
    },
    "collapsed": false
   },
   "outputs": [],
   "source": [
    "# Process for units_k_name where k ranges from 1 to 10\n",
    "unit_name_columns = [f'units_{i}_name' for i in range(1, 11)]\n",
    "unique_unit_names = pd.unique(units_df[unit_name_columns].values.ravel('K'))\n",
    "\n",
    "# Create a new dataframe with columns for each unique unit name\n",
    "units_encoding_df = pd.DataFrame(0, index=units_df.index, columns=unique_unit_names)\n",
    "\n",
    "# Populate the new dataframe by setting its tier if the unit name appears in any of the unit name columns for a row in units_df\n",
    "check = True\n",
    "for idx, row in units_df.iterrows():\n",
    "    for col in unit_name_columns:\n",
    "        tier = col.replace('name', '') + 'tier'\n",
    "        if pd.notna(row[col]):\n",
    "            units_encoding_df.at[idx, row[col]] = match_df[tier][idx]"
   ]
  },
  {
   "cell_type": "markdown",
   "metadata": {
    "collapsed": false
   },
   "source": [
    "### **Item Name Encoding**"
   ]
  },
  {
   "cell_type": "code",
   "execution_count": 101,
   "metadata": {
    "ExecuteTime": {
     "end_time": "2024-05-04T07:29:09.868494Z",
     "start_time": "2024-05-04T07:29:03.890319Z"
    },
    "collapsed": false
   },
   "outputs": [],
   "source": [
    "# Define the correct columns for unit items based on the provided pattern\n",
    "unit_item_columns = [f'units_{i}_item_{j}' for i in range(1, 11) for j in range(1, 4)]\n",
    "\n",
    "# Filter out columns that don't exist in the dataframe\n",
    "unit_item_columns = [col for col in unit_item_columns if col in units_df.columns]\n",
    "\n",
    "# Extract all unique items from these columns\n",
    "unique_unit_items = pd.unique(units_df[unit_item_columns].values.ravel('K'))\n",
    "unique_unit_items = [item for item in unique_unit_items if not pd.isnull(item)]\n",
    "\n",
    "# Create a new dataframe with columns for each unique unit item\n",
    "units_items_df = pd.DataFrame(0, index=units_df.index, columns=unique_unit_items)\n",
    "\n",
    "# Populate the new dataframe\n",
    "for idx, row in units_df.iterrows():\n",
    "    for col in unit_item_columns:\n",
    "        if pd.notna(row[col]):\n",
    "            units_items_df.at[idx, row[col]] = 1"
   ]
  },
  {
   "cell_type": "code",
   "execution_count": 102,
   "metadata": {
    "ExecuteTime": {
     "end_time": "2024-05-04T07:29:09.978779Z",
     "start_time": "2024-05-04T07:29:09.870008Z"
    },
    "collapsed": false
   },
   "outputs": [],
   "source": [
    "remaining = match_df[match_df.columns.difference(augments.columns).difference(traits_df.columns).difference(units_df.columns)]\n",
    "drop_columns = [x for x in list(remaining.columns) if (x.find('tier') != -1 or x.find('style') != -1 or x.find('_num_units') != -1)]\n",
    "df = remaining.copy()\n",
    "df.drop(columns=drop_columns, inplace=True)"
   ]
  },
  {
   "cell_type": "markdown",
   "metadata": {},
   "source": [
    "This cell calculates the remaining columns that have not been included in the previously defined augments, traits, and units DataFrames. It then drops any columns related to 'tier', 'style', or '_num_units' that are deemed irrelevant for the final analysis."
   ]
  },
  {
   "cell_type": "code",
   "execution_count": 103,
   "metadata": {
    "ExecuteTime": {
     "end_time": "2024-05-04T07:29:09.986751Z",
     "start_time": "2024-05-04T07:29:09.982074Z"
    },
    "collapsed": false
   },
   "outputs": [],
   "source": [
    "remaining = df"
   ]
  },
  {
   "cell_type": "markdown",
   "metadata": {},
   "source": [
    "## **Final DataFrame**"
   ]
  },
  {
   "cell_type": "code",
   "execution_count": 104,
   "metadata": {
    "ExecuteTime": {
     "end_time": "2024-05-04T07:29:10.103068Z",
     "start_time": "2024-05-04T07:29:09.989255Z"
    },
    "collapsed": false
   },
   "outputs": [],
   "source": [
    "final_data = pd.concat([remaining, augments_df, traits_encoding_df, units_encoding_df, units_items_df, match_df['placement']], axis=1)"
   ]
  },
  {
   "cell_type": "code",
   "execution_count": 105,
   "metadata": {},
   "outputs": [],
   "source": [
    "final_data.drop(columns=['0', 'Empty Bag'], inplace=True) # Remove 2 meaningless columns of meaningless"
   ]
  },
  {
   "cell_type": "code",
   "execution_count": 108,
   "metadata": {},
   "outputs": [],
   "source": [
    "final_data.drop(columns=['Artist', 'Great', 'Lovers', 'SpiritWalker'], inplace=True) # Remove columns of traits which has only one champion"
   ]
  },
  {
   "cell_type": "code",
   "execution_count": 109,
   "metadata": {
    "ExecuteTime": {
     "end_time": "2024-05-04T07:29:10.129992Z",
     "start_time": "2024-05-04T07:29:10.104159Z"
    },
    "collapsed": false
   },
   "outputs": [
    {
     "data": {
      "text/html": [
       "<div>\n",
       "<style scoped>\n",
       "    .dataframe tbody tr th:only-of-type {\n",
       "        vertical-align: middle;\n",
       "    }\n",
       "\n",
       "    .dataframe tbody tr th {\n",
       "        vertical-align: top;\n",
       "    }\n",
       "\n",
       "    .dataframe thead th {\n",
       "        text-align: right;\n",
       "    }\n",
       "</style>\n",
       "<table border=\"1\" class=\"dataframe\">\n",
       "  <thead>\n",
       "    <tr style=\"text-align: right;\">\n",
       "      <th></th>\n",
       "      <th>level</th>\n",
       "      <th>A Cut Above</th>\n",
       "      <th>Accomplice</th>\n",
       "      <th>Altruist Crest</th>\n",
       "      <th>Altruist Crown</th>\n",
       "      <th>Arcanist</th>\n",
       "      <th>Arcanist Crest</th>\n",
       "      <th>Arcanist Crown</th>\n",
       "      <th>Ascension</th>\n",
       "      <th>AtWhatCost</th>\n",
       "      <th>...</th>\n",
       "      <th>Bramble Vest Radiant</th>\n",
       "      <th>Steraks Gage Radiant</th>\n",
       "      <th>Spectral Gauntlet Radiant</th>\n",
       "      <th>Jeweled Gauntlet Radiant</th>\n",
       "      <th>Quicksilver Radiant</th>\n",
       "      <th>Guardian Angel Radiant</th>\n",
       "      <th>A P</th>\n",
       "      <th>Support</th>\n",
       "      <th>A S</th>\n",
       "      <th>placement</th>\n",
       "    </tr>\n",
       "  </thead>\n",
       "  <tbody>\n",
       "    <tr>\n",
       "      <th>0</th>\n",
       "      <td>8</td>\n",
       "      <td>0</td>\n",
       "      <td>0</td>\n",
       "      <td>0</td>\n",
       "      <td>0</td>\n",
       "      <td>0</td>\n",
       "      <td>0</td>\n",
       "      <td>0</td>\n",
       "      <td>0</td>\n",
       "      <td>0</td>\n",
       "      <td>...</td>\n",
       "      <td>0</td>\n",
       "      <td>0</td>\n",
       "      <td>0</td>\n",
       "      <td>0</td>\n",
       "      <td>0</td>\n",
       "      <td>0</td>\n",
       "      <td>0</td>\n",
       "      <td>1</td>\n",
       "      <td>1</td>\n",
       "      <td>7</td>\n",
       "    </tr>\n",
       "    <tr>\n",
       "      <th>1</th>\n",
       "      <td>9</td>\n",
       "      <td>0</td>\n",
       "      <td>0</td>\n",
       "      <td>0</td>\n",
       "      <td>0</td>\n",
       "      <td>0</td>\n",
       "      <td>0</td>\n",
       "      <td>0</td>\n",
       "      <td>0</td>\n",
       "      <td>0</td>\n",
       "      <td>...</td>\n",
       "      <td>0</td>\n",
       "      <td>0</td>\n",
       "      <td>0</td>\n",
       "      <td>0</td>\n",
       "      <td>0</td>\n",
       "      <td>0</td>\n",
       "      <td>0</td>\n",
       "      <td>0</td>\n",
       "      <td>0</td>\n",
       "      <td>4</td>\n",
       "    </tr>\n",
       "    <tr>\n",
       "      <th>2</th>\n",
       "      <td>8</td>\n",
       "      <td>0</td>\n",
       "      <td>0</td>\n",
       "      <td>0</td>\n",
       "      <td>0</td>\n",
       "      <td>0</td>\n",
       "      <td>0</td>\n",
       "      <td>0</td>\n",
       "      <td>0</td>\n",
       "      <td>0</td>\n",
       "      <td>...</td>\n",
       "      <td>0</td>\n",
       "      <td>0</td>\n",
       "      <td>0</td>\n",
       "      <td>0</td>\n",
       "      <td>0</td>\n",
       "      <td>0</td>\n",
       "      <td>0</td>\n",
       "      <td>0</td>\n",
       "      <td>0</td>\n",
       "      <td>6</td>\n",
       "    </tr>\n",
       "    <tr>\n",
       "      <th>3</th>\n",
       "      <td>7</td>\n",
       "      <td>0</td>\n",
       "      <td>3</td>\n",
       "      <td>0</td>\n",
       "      <td>0</td>\n",
       "      <td>0</td>\n",
       "      <td>0</td>\n",
       "      <td>0</td>\n",
       "      <td>0</td>\n",
       "      <td>0</td>\n",
       "      <td>...</td>\n",
       "      <td>0</td>\n",
       "      <td>0</td>\n",
       "      <td>0</td>\n",
       "      <td>0</td>\n",
       "      <td>0</td>\n",
       "      <td>0</td>\n",
       "      <td>0</td>\n",
       "      <td>0</td>\n",
       "      <td>0</td>\n",
       "      <td>8</td>\n",
       "    </tr>\n",
       "    <tr>\n",
       "      <th>4</th>\n",
       "      <td>10</td>\n",
       "      <td>0</td>\n",
       "      <td>0</td>\n",
       "      <td>0</td>\n",
       "      <td>0</td>\n",
       "      <td>0</td>\n",
       "      <td>0</td>\n",
       "      <td>0</td>\n",
       "      <td>0</td>\n",
       "      <td>0</td>\n",
       "      <td>...</td>\n",
       "      <td>0</td>\n",
       "      <td>0</td>\n",
       "      <td>0</td>\n",
       "      <td>0</td>\n",
       "      <td>0</td>\n",
       "      <td>0</td>\n",
       "      <td>0</td>\n",
       "      <td>0</td>\n",
       "      <td>0</td>\n",
       "      <td>1</td>\n",
       "    </tr>\n",
       "    <tr>\n",
       "      <th>...</th>\n",
       "      <td>...</td>\n",
       "      <td>...</td>\n",
       "      <td>...</td>\n",
       "      <td>...</td>\n",
       "      <td>...</td>\n",
       "      <td>...</td>\n",
       "      <td>...</td>\n",
       "      <td>...</td>\n",
       "      <td>...</td>\n",
       "      <td>...</td>\n",
       "      <td>...</td>\n",
       "      <td>...</td>\n",
       "      <td>...</td>\n",
       "      <td>...</td>\n",
       "      <td>...</td>\n",
       "      <td>...</td>\n",
       "      <td>...</td>\n",
       "      <td>...</td>\n",
       "      <td>...</td>\n",
       "      <td>...</td>\n",
       "      <td>...</td>\n",
       "    </tr>\n",
       "    <tr>\n",
       "      <th>9587</th>\n",
       "      <td>9</td>\n",
       "      <td>0</td>\n",
       "      <td>0</td>\n",
       "      <td>0</td>\n",
       "      <td>0</td>\n",
       "      <td>0</td>\n",
       "      <td>0</td>\n",
       "      <td>0</td>\n",
       "      <td>0</td>\n",
       "      <td>0</td>\n",
       "      <td>...</td>\n",
       "      <td>0</td>\n",
       "      <td>0</td>\n",
       "      <td>0</td>\n",
       "      <td>0</td>\n",
       "      <td>0</td>\n",
       "      <td>0</td>\n",
       "      <td>0</td>\n",
       "      <td>0</td>\n",
       "      <td>0</td>\n",
       "      <td>5</td>\n",
       "    </tr>\n",
       "    <tr>\n",
       "      <th>9588</th>\n",
       "      <td>10</td>\n",
       "      <td>0</td>\n",
       "      <td>0</td>\n",
       "      <td>0</td>\n",
       "      <td>0</td>\n",
       "      <td>0</td>\n",
       "      <td>0</td>\n",
       "      <td>0</td>\n",
       "      <td>0</td>\n",
       "      <td>0</td>\n",
       "      <td>...</td>\n",
       "      <td>0</td>\n",
       "      <td>0</td>\n",
       "      <td>0</td>\n",
       "      <td>0</td>\n",
       "      <td>0</td>\n",
       "      <td>0</td>\n",
       "      <td>0</td>\n",
       "      <td>0</td>\n",
       "      <td>0</td>\n",
       "      <td>1</td>\n",
       "    </tr>\n",
       "    <tr>\n",
       "      <th>9589</th>\n",
       "      <td>8</td>\n",
       "      <td>0</td>\n",
       "      <td>0</td>\n",
       "      <td>0</td>\n",
       "      <td>0</td>\n",
       "      <td>0</td>\n",
       "      <td>0</td>\n",
       "      <td>0</td>\n",
       "      <td>0</td>\n",
       "      <td>0</td>\n",
       "      <td>...</td>\n",
       "      <td>0</td>\n",
       "      <td>0</td>\n",
       "      <td>0</td>\n",
       "      <td>0</td>\n",
       "      <td>0</td>\n",
       "      <td>0</td>\n",
       "      <td>0</td>\n",
       "      <td>0</td>\n",
       "      <td>0</td>\n",
       "      <td>3</td>\n",
       "    </tr>\n",
       "    <tr>\n",
       "      <th>9590</th>\n",
       "      <td>9</td>\n",
       "      <td>0</td>\n",
       "      <td>0</td>\n",
       "      <td>0</td>\n",
       "      <td>0</td>\n",
       "      <td>0</td>\n",
       "      <td>0</td>\n",
       "      <td>0</td>\n",
       "      <td>0</td>\n",
       "      <td>0</td>\n",
       "      <td>...</td>\n",
       "      <td>0</td>\n",
       "      <td>0</td>\n",
       "      <td>0</td>\n",
       "      <td>0</td>\n",
       "      <td>0</td>\n",
       "      <td>0</td>\n",
       "      <td>0</td>\n",
       "      <td>0</td>\n",
       "      <td>0</td>\n",
       "      <td>2</td>\n",
       "    </tr>\n",
       "    <tr>\n",
       "      <th>9591</th>\n",
       "      <td>8</td>\n",
       "      <td>0</td>\n",
       "      <td>0</td>\n",
       "      <td>0</td>\n",
       "      <td>0</td>\n",
       "      <td>0</td>\n",
       "      <td>0</td>\n",
       "      <td>0</td>\n",
       "      <td>0</td>\n",
       "      <td>0</td>\n",
       "      <td>...</td>\n",
       "      <td>0</td>\n",
       "      <td>0</td>\n",
       "      <td>0</td>\n",
       "      <td>0</td>\n",
       "      <td>0</td>\n",
       "      <td>0</td>\n",
       "      <td>0</td>\n",
       "      <td>0</td>\n",
       "      <td>0</td>\n",
       "      <td>7</td>\n",
       "    </tr>\n",
       "  </tbody>\n",
       "</table>\n",
       "<p>9592 rows × 435 columns</p>\n",
       "</div>"
      ],
      "text/plain": [
       "      level  A Cut Above  Accomplice  Altruist Crest  Altruist Crown  \\\n",
       "0         8            0           0               0               0   \n",
       "1         9            0           0               0               0   \n",
       "2         8            0           0               0               0   \n",
       "3         7            0           3               0               0   \n",
       "4        10            0           0               0               0   \n",
       "...     ...          ...         ...             ...             ...   \n",
       "9587      9            0           0               0               0   \n",
       "9588     10            0           0               0               0   \n",
       "9589      8            0           0               0               0   \n",
       "9590      9            0           0               0               0   \n",
       "9591      8            0           0               0               0   \n",
       "\n",
       "      Arcanist  Arcanist Crest  Arcanist Crown  Ascension  AtWhatCost  ...  \\\n",
       "0            0               0               0          0           0  ...   \n",
       "1            0               0               0          0           0  ...   \n",
       "2            0               0               0          0           0  ...   \n",
       "3            0               0               0          0           0  ...   \n",
       "4            0               0               0          0           0  ...   \n",
       "...        ...             ...             ...        ...         ...  ...   \n",
       "9587         0               0               0          0           0  ...   \n",
       "9588         0               0               0          0           0  ...   \n",
       "9589         0               0               0          0           0  ...   \n",
       "9590         0               0               0          0           0  ...   \n",
       "9591         0               0               0          0           0  ...   \n",
       "\n",
       "      Bramble Vest Radiant  Steraks Gage Radiant  Spectral Gauntlet Radiant  \\\n",
       "0                        0                     0                          0   \n",
       "1                        0                     0                          0   \n",
       "2                        0                     0                          0   \n",
       "3                        0                     0                          0   \n",
       "4                        0                     0                          0   \n",
       "...                    ...                   ...                        ...   \n",
       "9587                     0                     0                          0   \n",
       "9588                     0                     0                          0   \n",
       "9589                     0                     0                          0   \n",
       "9590                     0                     0                          0   \n",
       "9591                     0                     0                          0   \n",
       "\n",
       "      Jeweled Gauntlet Radiant  Quicksilver Radiant  Guardian Angel Radiant  \\\n",
       "0                            0                    0                       0   \n",
       "1                            0                    0                       0   \n",
       "2                            0                    0                       0   \n",
       "3                            0                    0                       0   \n",
       "4                            0                    0                       0   \n",
       "...                        ...                  ...                     ...   \n",
       "9587                         0                    0                       0   \n",
       "9588                         0                    0                       0   \n",
       "9589                         0                    0                       0   \n",
       "9590                         0                    0                       0   \n",
       "9591                         0                    0                       0   \n",
       "\n",
       "      A P  Support  A S  placement  \n",
       "0       0        1    1          7  \n",
       "1       0        0    0          4  \n",
       "2       0        0    0          6  \n",
       "3       0        0    0          8  \n",
       "4       0        0    0          1  \n",
       "...   ...      ...  ...        ...  \n",
       "9587    0        0    0          5  \n",
       "9588    0        0    0          1  \n",
       "9589    0        0    0          3  \n",
       "9590    0        0    0          2  \n",
       "9591    0        0    0          7  \n",
       "\n",
       "[9592 rows x 435 columns]"
      ]
     },
     "execution_count": 109,
     "metadata": {},
     "output_type": "execute_result"
    }
   ],
   "source": [
    "final_data"
   ]
  },
  {
   "cell_type": "code",
   "execution_count": 110,
   "metadata": {
    "ExecuteTime": {
     "end_time": "2024-05-04T07:29:10.590139Z",
     "start_time": "2024-05-04T07:29:10.131047Z"
    },
    "collapsed": false
   },
   "outputs": [],
   "source": [
    "final_data.to_csv('data/final.csv', index=False, header=True)"
   ]
  }
 ],
 "metadata": {
  "kernelspec": {
   "display_name": "Python 3",
   "language": "python",
   "name": "python3"
  },
  "language_info": {
   "codemirror_mode": {
    "name": "ipython",
    "version": 3
   },
   "file_extension": ".py",
   "mimetype": "text/x-python",
   "name": "python",
   "nbconvert_exporter": "python",
   "pygments_lexer": "ipython3",
   "version": "3.11.9"
  }
 },
 "nbformat": 4,
 "nbformat_minor": 2
}
